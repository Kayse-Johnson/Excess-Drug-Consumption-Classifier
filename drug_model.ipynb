import pandas

pd.set_option('display.max_rows',100)
df=pd.read_csv('Body_Fat_Reddit_Data.csv')
#metrics.plot_roc_curve(model, X_validation, y_validation)
